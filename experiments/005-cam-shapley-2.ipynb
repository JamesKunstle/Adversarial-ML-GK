{
 "cells": [
  {
   "cell_type": "code",
   "execution_count": 1,
   "id": "indie-joseph",
   "metadata": {},
   "outputs": [
    {
     "name": "stdout",
     "output_type": "stream",
     "text": [
      "cuda:0\n",
      "1.8.0a0+52ea372\n"
     ]
    }
   ],
   "source": [
    "import torch\n",
    "import torchvision\n",
    "from torchvision import datasets\n",
    "import torchvision.transforms as transforms\n",
    "import torch.nn as nn\n",
    "import torch.nn.functional as F\n",
    "import torch.optim as optim\n",
    "\n",
    "import matplotlib.pyplot as plt\n",
    "import numpy as np\n",
    "from tqdm import tqdm, trange\n",
    "import shap\n",
    "\n",
    "device = torch.device(\"cuda:0\" if torch.cuda.is_available() else \"cpu\")\n",
    "print(device)\n",
    "print(torch.__version__)"
   ]
  },
  {
   "cell_type": "code",
   "execution_count": 2,
   "id": "organic-provision",
   "metadata": {},
   "outputs": [],
   "source": [
    "class FashionCNN(nn.Module):\n",
    "    \n",
    "    def __init__(self):\n",
    "        super(FashionCNN, self).__init__()\n",
    "        \n",
    "        self.layer1 = nn.Sequential(\n",
    "            nn.Conv2d(in_channels=1, out_channels=32, kernel_size=3, padding=1),\n",
    "            nn.BatchNorm2d(32),\n",
    "            nn.ReLU(),\n",
    "            nn.MaxPool2d(kernel_size=2, stride=2)\n",
    "        )\n",
    "        \n",
    "        self.layer2 = nn.Sequential(\n",
    "            nn.Conv2d(in_channels=32, out_channels=64, kernel_size=3),\n",
    "            nn.BatchNorm2d(64),\n",
    "            nn.ReLU(),\n",
    "            nn.MaxPool2d(2)\n",
    "        )\n",
    "        \n",
    "        self.fc1 = nn.Linear(in_features=64*6*6, out_features=600)\n",
    "        self.drop = nn.Dropout2d(0.25)\n",
    "        self.fc2 = nn.Linear(in_features=600, out_features=120)\n",
    "        self.fc3 = nn.Linear(in_features=120, out_features=10)\n",
    "        \n",
    "    def forward(self, x):\n",
    "        out = self.layer1(x)\n",
    "        out = self.layer2(out)\n",
    "        out = out.view(out.size(0), -1)\n",
    "        out = self.fc1(out)\n",
    "        out = self.drop(out)\n",
    "        out = self.fc2(out)\n",
    "        out = self.fc3(out)\n",
    "        \n",
    "        return out"
   ]
  },
  {
   "cell_type": "code",
   "execution_count": 3,
   "id": "subject-retro",
   "metadata": {},
   "outputs": [
    {
     "data": {
      "text/plain": [
       "<All keys matched successfully>"
      ]
     },
     "execution_count": 3,
     "metadata": {},
     "output_type": "execute_result"
    }
   ],
   "source": [
    "model = FashionCNN().to( device )\n",
    "model.load_state_dict( torch.load(\"mnist_fashion_CNN.pt\") )\n"
   ]
  },
  {
   "cell_type": "code",
   "execution_count": 4,
   "id": "mental-howard",
   "metadata": {},
   "outputs": [
    {
     "data": {
      "text/plain": [
       "FashionCNN(\n",
       "  (layer1): Sequential(\n",
       "    (0): Conv2d(1, 32, kernel_size=(3, 3), stride=(1, 1), padding=(1, 1))\n",
       "    (1): BatchNorm2d(32, eps=1e-05, momentum=0.1, affine=True, track_running_stats=True)\n",
       "    (2): ReLU()\n",
       "    (3): MaxPool2d(kernel_size=2, stride=2, padding=0, dilation=1, ceil_mode=False)\n",
       "  )\n",
       "  (layer2): Sequential(\n",
       "    (0): Conv2d(32, 64, kernel_size=(3, 3), stride=(1, 1))\n",
       "    (1): BatchNorm2d(64, eps=1e-05, momentum=0.1, affine=True, track_running_stats=True)\n",
       "    (2): ReLU()\n",
       "    (3): MaxPool2d(kernel_size=2, stride=2, padding=0, dilation=1, ceil_mode=False)\n",
       "  )\n",
       "  (fc1): Linear(in_features=2304, out_features=600, bias=True)\n",
       "  (drop): Dropout2d(p=0.25, inplace=False)\n",
       "  (fc2): Linear(in_features=600, out_features=120, bias=True)\n",
       "  (fc3): Linear(in_features=120, out_features=10, bias=True)\n",
       ")"
      ]
     },
     "execution_count": 4,
     "metadata": {},
     "output_type": "execute_result"
    }
   ],
   "source": [
    "model.eval()"
   ]
  },
  {
   "cell_type": "code",
   "execution_count": 5,
   "id": "canadian-rental",
   "metadata": {},
   "outputs": [],
   "source": [
    "\"\"\"\n",
    "    Data loading, train and test set via the PyTorch dataloader.\n",
    "\"\"\"\n",
    "\n",
    "train_transform=transforms.Compose([\n",
    "#         transforms.RandomCrop(28, padding=4),\n",
    "#         transforms.RandomHorizontalFlip(),\n",
    "        transforms.ToTensor(),\n",
    "        transforms.Normalize((0.1307,), (0.3081,))\n",
    "        ])\n",
    "\n",
    "test_transform=transforms.Compose([\n",
    "        transforms.ToTensor(),\n",
    "        transforms.Normalize((0.1307,), (0.3081,)),\n",
    "        ])\n",
    "\n",
    "batch_size = 1000\n",
    "\n",
    "trainset = datasets.FashionMNIST('./data', train=True, download=True,\n",
    "                   transform=train_transform)\n",
    "train_loader = torch.utils.data.DataLoader(trainset, batch_size=batch_size,\n",
    "                                          shuffle=False, num_workers=2)\n",
    "\n",
    "testset = datasets.FashionMNIST('./data', train=False,\n",
    "                   transform=test_transform)\n",
    "test_loader = torch.utils.data.DataLoader(testset, batch_size=batch_size,\n",
    "                                         shuffle=False, num_workers=2)"
   ]
  },
  {
   "cell_type": "code",
   "execution_count": 6,
   "id": "refined-gospel",
   "metadata": {},
   "outputs": [
    {
     "data": {
      "text/plain": [
       "60000"
      ]
     },
     "execution_count": 6,
     "metadata": {},
     "output_type": "execute_result"
    }
   ],
   "source": [
    "len(trainset)"
   ]
  },
  {
   "cell_type": "code",
   "execution_count": 7,
   "id": "harmful-pressure",
   "metadata": {},
   "outputs": [],
   "source": [
    "batch = next(iter(test_loader))\n",
    "images, labs = batch"
   ]
  },
  {
   "cell_type": "code",
   "execution_count": 8,
   "id": "developmental-liquid",
   "metadata": {},
   "outputs": [
    {
     "data": {
      "text/plain": [
       "torch.Size([1000, 1, 28, 28])"
      ]
     },
     "execution_count": 8,
     "metadata": {},
     "output_type": "execute_result"
    }
   ],
   "source": [
    "images.shape"
   ]
  },
  {
   "cell_type": "code",
   "execution_count": 9,
   "id": "elder-intensity",
   "metadata": {},
   "outputs": [],
   "source": [
    "background = images[:500]\n",
    "background = background.to(device, dtype=torch.float)\n"
   ]
  },
  {
   "cell_type": "code",
   "execution_count": 10,
   "id": "cardiac-check",
   "metadata": {},
   "outputs": [],
   "source": [
    "test_images = images[500:]\n",
    "test_images = test_images.cpu()\n",
    "test_images = test_images.numpy()\n",
    "pants = []\n",
    "for i in range(len(test_images)):\n",
    "    tru_lab = int(labs[500+i])\n",
    "    if tru_lab ==1:\n",
    "        pants.append(test_images[i])\n",
    "pants_t = torch.FloatTensor(pants)"
   ]
  },
  {
   "cell_type": "code",
   "execution_count": 11,
   "id": "approximate-stream",
   "metadata": {},
   "outputs": [],
   "source": [
    "e = shap.DeepExplainer(model, background)"
   ]
  },
  {
   "cell_type": "code",
   "execution_count": 12,
   "id": "qualified-former",
   "metadata": {},
   "outputs": [
    {
     "name": "stderr",
     "output_type": "stream",
     "text": [
      "Using a non-full backward hook when the forward contains multiple autograd Nodes is deprecated and will be removed in future versions. This hook will be missing some grad_input. Please use register_full_backward_hook to get the documented behavior.\n"
     ]
    }
   ],
   "source": [
    "shap_values = e.shap_values(pants_t)"
   ]
  },
  {
   "cell_type": "code",
   "execution_count": 13,
   "id": "lined-weekly",
   "metadata": {},
   "outputs": [
    {
     "data": {
      "text/plain": [
       "(10, 53, 1, 28, 28)"
      ]
     },
     "execution_count": 13,
     "metadata": {},
     "output_type": "execute_result"
    }
   ],
   "source": [
    "shap_values = np.asarray(shap_values)\n",
    "shap_values.shape"
   ]
  },
  {
   "cell_type": "code",
   "execution_count": 14,
   "id": "legendary-housing",
   "metadata": {},
   "outputs": [
    {
     "data": {
      "text/plain": [
       "(10, 53, 28, 28, 1)"
      ]
     },
     "execution_count": 14,
     "metadata": {},
     "output_type": "execute_result"
    }
   ],
   "source": [
    "shap_numpy = [np.swapaxes(np.swapaxes(s, 1, -1), 1, 2) for s in shap_values]\n",
    "\n",
    "shap_n = np.asarray(shap_numpy)\n",
    "shap_n.shape"
   ]
  },
  {
   "cell_type": "code",
   "execution_count": 15,
   "id": "operating-uzbekistan",
   "metadata": {},
   "outputs": [
    {
     "name": "stdout",
     "output_type": "stream",
     "text": [
      "(53, 28, 28, 1)\n"
     ]
    },
    {
     "data": {
      "image/png": "[encoded data removed]",
      "text/plain": [
       "<Figure size 432x288 with 1 Axes>"
      ]
     },
     "metadata": {
      "needs_background": "light"
     },
     "output_type": "display_data"
    }
   ],
   "source": [
    "shap_heatmap = np.zeros((28,28))\n",
    "\n",
    "snkr_shaps = shap_n[7]\n",
    "print(snkr_shaps.shape)\n",
    "\n",
    "for i in range(len(snkr_shaps)):\n",
    "    shap_heatmap += snkr_shaps[i,:,:,0]\n",
    "    \n",
    "\n",
    "plt.imshow(shap_heatmap, cmap='inferno')\n",
    "plt.show()"
   ]
  },
  {
   "cell_type": "code",
   "execution_count": 28,
   "id": "excited-intro",
   "metadata": {},
   "outputs": [],
   "source": [
    "def largest_indices(ary, n):\n",
    "    \"\"\"Returns the n largest indices from a numpy array.\"\"\"\n",
    "    flat = ary.flatten()\n",
    "    indices = np.argpartition(flat, -n)[-n:]\n",
    "    indices = indices[np.argsort(-flat[indices])]\n",
    "    return np.unravel_index(indices, ary.shape)"
   ]
  },
  {
   "cell_type": "code",
   "execution_count": 43,
   "id": "lesbian-strap",
   "metadata": {},
   "outputs": [],
   "source": [
    "top5idxs = largest_indices(shap_heatmap, 5)"
   ]
  },
  {
   "cell_type": "code",
   "execution_count": 30,
   "id": "current-haven",
   "metadata": {},
   "outputs": [
    {
     "data": {
      "text/plain": [
       "(array([ 9,  8, 10, 21,  8, 19, 10,  9, 25,  9]),\n",
       " array([21, 14, 14,  6, 21,  6, 21, 14, 20,  5]))"
      ]
     },
     "execution_count": 30,
     "metadata": {},
     "output_type": "execute_result"
    }
   ],
   "source": [
    "top10idxs = largest_indices(shap_heatmap, 10)\n",
    "top10idxs"
   ]
  },
  {
   "cell_type": "code",
   "execution_count": 18,
   "id": "crazy-province",
   "metadata": {},
   "outputs": [
    {
     "name": "stdout",
     "output_type": "stream",
     "text": [
      "5.62584228743799\n",
      "5.585948307358194\n",
      "5.203444090679113\n",
      "5.16855482943356\n",
      "4.914426076225936\n",
      "4.789531297516078\n",
      "4.728785552084446\n",
      "4.672822481486946\n",
      "4.629217755049467\n",
      "4.476297967135906\n"
     ]
    }
   ],
   "source": [
    "for i in range(10):\n",
    "    print(shap_heatmap[top10idxs[0][i], top10idxs[1][i]])"
   ]
  },
  {
   "cell_type": "code",
   "execution_count": 31,
   "id": "aware-facial",
   "metadata": {},
   "outputs": [],
   "source": [
    "import random\n",
    "\n",
    "def perturb_indices(img, arr0, arr1, lo, hi):\n",
    "    random.seed(123)\n",
    "    assert(len(arr0) == len(arr1)) \n",
    "    img = img.numpy()\n",
    "    new_img = np.copy(img)\n",
    "    for i in range(len(arr0)):\n",
    "        new_img[0,arr0[i], arr1[i]] += random.uniform(lo,hi)\n",
    "    return new_img"
   ]
  },
  {
   "cell_type": "code",
   "execution_count": 34,
   "id": "opponent-balance",
   "metadata": {},
   "outputs": [],
   "source": [
    "new_i = perturb_indices(pants_t[0], top10idxs[0], top10idxs[1], 3,5)"
   ]
  },
  {
   "cell_type": "code",
   "execution_count": 35,
   "id": "planned-naples",
   "metadata": {},
   "outputs": [
    {
     "data": {
      "image/png": "[encoded data removed]",
      "text/plain": [
       "<Figure size 432x288 with 1 Axes>"
      ]
     },
     "metadata": {
      "needs_background": "light"
     },
     "output_type": "display_data"
    }
   ],
   "source": [
    "plt.imshow(new_i[0], cmap='gray')\n",
    "plt.show()"
   ]
  },
  {
   "cell_type": "code",
   "execution_count": 36,
   "id": "convertible-elizabeth",
   "metadata": {},
   "outputs": [
    {
     "name": "stdout",
     "output_type": "stream",
     "text": [
      "tensor([[1.5831e-02, 9.8417e-01, 7.8658e-09, 7.7415e-07, 8.9433e-07, 4.9796e-09,\n",
      "         1.0224e-07, 2.6542e-11, 5.3553e-08, 6.6171e-12]], device='cuda:0',\n",
      "       grad_fn=<SoftmaxBackward>)\n",
      "tensor(1, device='cuda:0')\n"
     ]
    }
   ],
   "source": [
    "new_i_t = torch.FloatTensor(new_i)\n",
    "new_i_t = new_i_t.to(device, dtype=torch.float)\n",
    "new_i_t = new_i_t.unsqueeze(0)\n",
    "output = model(new_i_t)\n",
    "outpt = F.softmax(output, dim=1)\n",
    "print(outpt)\n",
    "print(torch.argmax(outpt))"
   ]
  },
  {
   "cell_type": "code",
   "execution_count": 39,
   "id": "judicial-intervention",
   "metadata": {},
   "outputs": [],
   "source": [
    "def test_shap_pert(img, arr0, arr1, lo,hi):\n",
    "    new_i = perturb_indices(img, arr0, arr1, lo,hi)\n",
    "    new_i_t = torch.FloatTensor(new_i)\n",
    "    new_i_t = new_i_t.to(device, dtype=torch.float)\n",
    "    new_i_t = new_i_t.unsqueeze(0)\n",
    "    \n",
    "    output = model(new_i_t)\n",
    "    outpt = F.softmax(output, dim=1)\n",
    "    predicted_lab = torch.argmax(outpt)\n",
    "    \n",
    "    return new_i, outpt, predicted_lab\n",
    "    "
   ]
  },
  {
   "cell_type": "code",
   "execution_count": 55,
   "id": "handy-jimmy",
   "metadata": {},
   "outputs": [],
   "source": [
    "perted_imgs = []\n",
    "perted_outs = []\n",
    "pred_labs = []\n",
    "\n",
    "for i in range(len(pants_t)):\n",
    "    new_i, outpt, predicted_lab = test_shap_pert(pants_t[i], top5idxs[0], top5idxs[1], 3,5)\n",
    "    perted_imgs.append(new_i)\n",
    "    perted_outs.append(outpt)\n",
    "    pred_labs.append(predicted_lab)"
   ]
  },
  {
   "cell_type": "code",
   "execution_count": 56,
   "id": "powerful-parks",
   "metadata": {},
   "outputs": [
    {
     "name": "stdout",
     "output_type": "stream",
     "text": [
      "53\n",
      "1 ,1 ,1 ,1 ,1 ,1 ,1 ,1 ,1 ,1 ,1 ,1 ,1 ,1 ,1 ,1 ,1 ,4 ,3 ,1 ,1 ,1 ,1 ,1 ,4 ,1 ,1 ,1 ,3 ,1 ,1 ,1 ,1 ,1 ,1 ,1 ,1 ,4 ,1 ,1 ,1 ,1 ,1 ,1 ,1 ,1 ,1 ,1 ,1 ,1 ,1 ,1 ,1 ,5\n"
     ]
    }
   ],
   "source": [
    "print(len(perted_outs))\n",
    "\n",
    "c=0\n",
    "for l in pred_labs:\n",
    "    print(int(l), ',', end =\"\")\n",
    "    if int(l) != 1:\n",
    "        c+=1\n",
    "print(c)"
   ]
  },
  {
   "cell_type": "code",
   "execution_count": 49,
   "id": "polish-missouri",
   "metadata": {},
   "outputs": [
    {
     "data": {
      "image/png": "[encoded data removed]",
      "text/plain": [
       "<Figure size 432x288 with 1 Axes>"
      ]
     },
     "metadata": {
      "needs_background": "light"
     },
     "output_type": "display_data"
    },
    {
     "name": "stdout",
     "output_type": "stream",
     "text": [
      "tensor(1, device='cuda:0')\n"
     ]
    }
   ],
   "source": [
    "plt.imshow(perted_imgs[3][0],cmap='gray')\n",
    "plt.show()\n",
    "print(pred_labs[23])\n"
   ]
  },
  {
   "cell_type": "code",
   "execution_count": 60,
   "id": "marine-bangkok",
   "metadata": {},
   "outputs": [],
   "source": [
    "perted_imgs = []\n",
    "perted_outs = []\n",
    "pred_labs = []\n",
    "\n",
    "for i in range(len(pants_t)):\n",
    "    new_i, outpt, predicted_lab = test_shap_pert(pants_t[i], top10idxs[0], top10idxs[1], 5,8)\n",
    "    perted_imgs.append(new_i)\n",
    "    perted_outs.append(outpt)\n",
    "    pred_labs.append(predicted_lab)"
   ]
  },
  {
   "cell_type": "code",
   "execution_count": 61,
   "id": "binary-tennis",
   "metadata": {},
   "outputs": [
    {
     "name": "stdout",
     "output_type": "stream",
     "text": [
      "53\n",
      "0 ,0 ,1 ,0 ,0 ,0 ,0 ,0 ,0 ,1 ,0 ,1 ,1 ,0 ,1 ,0 ,0 ,6 ,0 ,1 ,1 ,0 ,6 ,1 ,4 ,1 ,1 ,0 ,3 ,0 ,0 ,1 ,0 ,0 ,1 ,0 ,0 ,4 ,0 ,1 ,0 ,0 ,6 ,1 ,0 ,0 ,1 ,1 ,0 ,1 ,0 ,0 ,1 ,35\n"
     ]
    }
   ],
   "source": [
    "print(len(perted_outs))\n",
    "\n",
    "c=0\n",
    "for l in pred_labs:\n",
    "    print(int(l), ',', end =\"\")\n",
    "    if int(l) != 1:\n",
    "        c+=1\n",
    "print(c)"
   ]
  },
  {
   "cell_type": "code",
   "execution_count": 62,
   "id": "contained-authorization",
   "metadata": {},
   "outputs": [
    {
     "data": {
      "image/png": "[encoded data removed]",
      "text/plain": [
       "<Figure size 432x288 with 1 Axes>"
      ]
     },
     "metadata": {
      "needs_background": "light"
     },
     "output_type": "display_data"
    },
    {
     "name": "stdout",
     "output_type": "stream",
     "text": [
      "tensor(1, device='cuda:0')\n"
     ]
    }
   ],
   "source": [
    "plt.imshow(perted_imgs[3][0],cmap='gray')\n",
    "plt.show()\n",
    "print(pred_labs[23])\n"
   ]
  },
  {
   "cell_type": "code",
   "execution_count": 63,
   "id": "interested-publicity",
   "metadata": {},
   "outputs": [],
   "source": [
    "top20idxs = largest_indices(shap_heatmap, 20)"
   ]
  },
  {
   "cell_type": "code",
   "execution_count": 67,
   "id": "forced-teaching",
   "metadata": {},
   "outputs": [],
   "source": [
    "perted_imgs = []\n",
    "perted_outs = []\n",
    "pred_labs = []\n",
    "\n",
    "for i in range(len(pants_t)):\n",
    "    new_i, outpt, predicted_lab = test_shap_pert(pants_t[i], top20idxs[0], top20idxs[1], 5,8)\n",
    "    perted_imgs.append(new_i)\n",
    "    perted_outs.append(outpt)\n",
    "    pred_labs.append(predicted_lab)"
   ]
  },
  {
   "cell_type": "code",
   "execution_count": 68,
   "id": "cosmetic-raising",
   "metadata": {},
   "outputs": [
    {
     "name": "stdout",
     "output_type": "stream",
     "text": [
      "53\n",
      "0 ,0 ,4 ,0 ,0 ,4 ,4 ,4 ,4 ,0 ,0 ,6 ,6 ,6 ,0 ,4 ,4 ,6 ,6 ,0 ,4 ,0 ,6 ,4 ,6 ,0 ,4 ,6 ,6 ,0 ,0 ,0 ,6 ,0 ,0 ,0 ,4 ,4 ,0 ,0 ,4 ,4 ,6 ,0 ,0 ,4 ,0 ,0 ,0 ,0 ,6 ,0 ,4 ,53\n"
     ]
    }
   ],
   "source": [
    "print(len(perted_outs))\n",
    "\n",
    "c=0\n",
    "for l in pred_labs:\n",
    "    print(int(l), ',', end =\"\")\n",
    "    if int(l) != 1:\n",
    "        c+=1\n",
    "print(c)"
   ]
  },
  {
   "cell_type": "code",
   "execution_count": 69,
   "id": "perceived-tonight",
   "metadata": {},
   "outputs": [
    {
     "data": {
      "image/png": "[encoded data removed]",
      "text/plain": [
       "<Figure size 432x288 with 1 Axes>"
      ]
     },
     "metadata": {
      "needs_background": "light"
     },
     "output_type": "display_data"
    },
    {
     "name": "stdout",
     "output_type": "stream",
     "text": [
      "tensor(4, device='cuda:0')\n"
     ]
    }
   ],
   "source": [
    "plt.imshow(perted_imgs[3][0],cmap='gray')\n",
    "plt.show()\n",
    "print(pred_labs[23])\n"
   ]
  },
  {
   "cell_type": "code",
   "execution_count": null,
   "id": "viral-bride",
   "metadata": {},
   "outputs": [],
   "source": []
  }
 ],
 "metadata": {
  "kernelspec": {
   "display_name": "Python 3",
   "language": "python",
   "name": "python3"
  },
  "language_info": {
   "codemirror_mode": {
    "name": "ipython",
    "version": 3
   },
   "file_extension": ".py",
   "mimetype": "text/x-python",
   "name": "python",
   "nbconvert_exporter": "python",
   "pygments_lexer": "ipython3",
   "version": "3.8.5"
  }
 },
 "nbformat": 4,
 "nbformat_minor": 5
}
